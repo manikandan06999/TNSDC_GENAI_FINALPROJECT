{
  "nbformat": 4,
  "nbformat_minor": 0,
  "metadata": {
    "colab": {
      "provenance": []
    },
    "kernelspec": {
      "name": "python3",
      "display_name": "Python 3"
    },
    "language_info": {
      "name": "python"
    }
  },
  "cells": [
    {
      "cell_type": "code",
      "execution_count": 5,
      "metadata": {
        "colab": {
          "base_uri": "https://localhost:8080/"
        },
        "id": "fQ4FwDHohjIW",
        "outputId": "204067f8-0629-4646-9d2d-981786a02cf2"
      },
      "outputs": [
        {
          "output_type": "stream",
          "name": "stdout",
          "text": [
            "[[1 'Dr. Bellarmine V L--HEART - HEART SPECILALIST - MUMBAI' 5.0]\n",
            " [2 'Dr. Mohammed IM - BREAST CANCER  - VERY GOOD- TRICHY' 5.0]\n",
            " [3 'Dr. Raj G  - LUNG CANCER   -TRICHY' 4.0]\n",
            " [4 'Dr. Veda PPS Oncologist -BREAST CANCER - CHENNAI' 3.0]\n",
            " [5 'Dr. Sathish SK  Oncologist  STAGE 2 - BREAST CANCER - CHENNAI' 5.0]\n",
            " [6 'Dr. G Amarnath BREAST CANCER - CHENNAI' 4.0]\n",
            " [7 'Dr. J Balaji Oncologist CANCER - BREAST CANCER - CHENNAI' 3.0]\n",
            " [8 'Dr. Sujay CANCER - BREAST CANCER - CHENNAI -GOOD' 5.0]\n",
            " [9 'Dr.KR Prasanna  Oncologist CANCER - BREAST CANCER - CHENNAI' 3.0]\n",
            " [10 'Dr. JACK  Oncologist CANCER - BREAST CANCER - CHENNAI' 2.0]\n",
            " [11 'Dr. Rajni - Oncologist  - CANCER -3- TRICHY -  GOOD' 5.0]\n",
            " [12 'Dr. MM  - LIVER  CANCER - CHENNAI -GOOD' 2.0]\n",
            " [13 'Dr. B.ANIS - Oncologist - BREAST CANCER  -VERY GOOD-TRICHY' 5.0]\n",
            " [14 'Dr. Rajni Gupta  -BREAST CANCER - -TRICHY- VERY GOOD' 4.0]\n",
            " [15 'Dr.  Vincent Lawrence --HEART - HEART SPECILALIST - MUMBAI' 5.0]\n",
            " [16 'Dr.  Lawrence --HEART - HEART SPECILALIST - MUMBAI' 5.0]\n",
            " [17 'Patient Id :17-  CANCER -VERY GOOD- TRICHY' nan]\n",
            " [18 'Patient Id :18- BREAST CANCER - GOOD- CHENNAI' nan]\n",
            " [19 'Patient Id :19- LUNG CANCER   -TRICHY' nan]\n",
            " [20 'Patient Id :20- LIVER CANCER  - MUMBAI' nan]]\n",
            "{}\n",
            "*****************************************************************************\n",
            "FROM THE LIST OF DOCTORS THE CONTENT BASED RECOMMENCATIONS ARE\n",
            "*****************************************************************************\n",
            "INPUT  PATIENT ID FOR RECOMMENDATION :--> 19\n",
            "NUMBER OF RECOMMENDED DOCTORS :--> 1\n",
            "RECOMMENDING - 1 - CANCER  DOCTOR  FOR PATIENT = Patient Id :19- LUNG CANCER   -TRICHY\n",
            "^^^^^^^^^^^^^^^^^^^^^^^^^^^^^^^^^^^^^^^^^^^^^^^^^^^^^^^^^^^^^^^^^^^^^^^^^^^^^^^^^\n",
            "RECOMENDED DOCTOR_ID = 3 --> DOCTOR NAME : Dr. Raj G  (score:0.34507138754031275)\n",
            "INPUT DOCTOR ID TO KNOW MORE -->3\n",
            "DoctorID = 3\n",
            "   id                  Name / description  rating\n",
            "2   3  Dr. Raj G  - LUNG CANCER   -TRICHY     4.0\n"
          ]
        }
      ],
      "source": [
        "import pandas as pd\n",
        "from sklearn.feature_extraction.text import TfidfVectorizer\n",
        "from sklearn.metrics.pairwise import linear_kernel\n",
        "\n",
        "import pandas as pd\n",
        "import numpy as np\n",
        "import os\n",
        "pd.set_option(\"display.max_rows\", None, \"display.max_columns\", None)\n",
        "\n",
        "import warnings\n",
        "warnings.filterwarnings('ignore')\n",
        "ds = pd.read_csv(r\"/content/doctor-2024-v1.csv\")\n",
        "dp = pd.read_csv(r\"/content/patient.csv\")\n",
        "print(ds.values)\n",
        "#print(dp.values)\n",
        "tf = TfidfVectorizer(analyzer='word', ngram_range=(1, 3), min_df=0, stop_words='english')\n",
        "tfidf_matrix = tf.fit_transform(ds['Name / description'])\n",
        "\n",
        "cosine_similarities = linear_kernel(tfidf_matrix, tfidf_matrix)\n",
        "\n",
        "results = {}\n",
        "print(results)\n",
        "for idx, row in ds.iterrows():\n",
        "    similar_indices = cosine_similarities[idx].argsort()[:-100:-1]\n",
        "    similar_items = [(cosine_similarities[idx][i], ds['id'][i]) for i in similar_indices]\n",
        "    results[row['id']] = similar_items[1:]\n",
        "print('*****************************************************************************')\n",
        "print('FROM THE LIST OF DOCTORS THE CONTENT BASED RECOMMENCATIONS ARE')\n",
        "print('*****************************************************************************')\n",
        "def item(id):\n",
        "    return ds.loc[ds['id'] == id]['Name / description'].tolist()[0].split(' - ')[0]\n",
        "\n",
        "# Just reads the results out of the dictionary.\n",
        "def recommend(item_id, num):\n",
        "    print(\"RECOMMENDING - \" + str(num) + \" - CANCER  DOCTOR  FOR PATIENT = \" + item(item_id) )\n",
        "    print(\"^^^^^^^^^^^^^^^^^^^^^^^^^^^^^^^^^^^^^^^^^^^^^^^^^^^^^^^^^^^^^^^^^^^^^^^^^^^^^^^^^\")\n",
        "    recs = results[item_id][:num]\n",
        "    for rec in recs:\n",
        "        #print(\"RECOMENDED DOCTOR : \" + item(rec[1]) + \"->score:\" + str(rec[0]) + \"\")\n",
        " #     print(\"RECOMENDED DOCTOR NAME : \" + item(rec[1]) + \"  DOCTOR_ID = \"+  str(rec[1]) + \" --> (score:\" + str(rec[0])\")\" )\n",
        "        print(\"RECOMENDED DOCTOR_ID = \"+  str(rec[1]) + \" --> DOCTOR NAME : \" + item(rec[1]) + \" (score:\" +      str(rec[0]) + \")\")\n",
        "#print(dp)\n",
        "x=input('INPUT  PATIENT ID FOR RECOMMENDATION :--> ')\n",
        "y=input('NUMBER OF RECOMMENDED DOCTORS :--> ')\n",
        "recommend(item_id=int(x),num=int(y))\n",
        "z=input(\"INPUT DOCTOR ID TO KNOW MORE -->\")\n",
        "print(\"DoctorID =\",z);\n",
        "zz=int(z)-1;\n",
        "#print(ds['rating'])\n",
        "print(ds.iloc[[zz]])\n",
        "#print(ds.values[z:id])\n",
        "#print(ds.iloc[[z]])\n",
        "\n"
      ]
    }
  ]
}